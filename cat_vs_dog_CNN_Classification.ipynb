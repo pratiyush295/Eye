{
  "nbformat": 4,
  "nbformat_minor": 0,
  "metadata": {
    "colab": {
      "provenance": []
    },
    "kernelspec": {
      "name": "python3",
      "display_name": "Python 3"
    },
    "language_info": {
      "name": "python"
    },
    "accelerator": "GPU",
    "gpuClass": "standard"
  },
  "cells": [
    {
      "cell_type": "code",
      "execution_count": 1,
      "metadata": {
        "id": "ZoDYOKizl4Xt"
      },
      "outputs": [],
      "source": [
        "!mkdir -p ~/.kaggle\n",
        "!cp kaggle.json ~/.kaggle/"
      ]
    },
    {
      "cell_type": "code",
      "source": [
        "!kaggle datasets download -d salader/dogs-vs-cats"
      ],
      "metadata": {
        "colab": {
          "base_uri": "https://localhost:8080/"
        },
        "id": "FA8Uu210mCnx",
        "outputId": "7673ef32-bf31-48f1-f7c8-30a2e9356384"
      },
      "execution_count": 2,
      "outputs": [
        {
          "output_type": "stream",
          "name": "stdout",
          "text": [
            "Warning: Your Kaggle API key is readable by other users on this system! To fix this, you can run 'chmod 600 /root/.kaggle/kaggle.json'\n",
            "Downloading dogs-vs-cats.zip to /content\n",
            "100% 1.06G/1.06G [00:47<00:00, 25.5MB/s]\n",
            "100% 1.06G/1.06G [00:47<00:00, 23.9MB/s]\n"
          ]
        }
      ]
    },
    {
      "cell_type": "code",
      "source": [
        "import zipfile\n",
        "zip_ref=zipfile.ZipFile('/content/dogs-vs-cats.zip','r')\n",
        "zip_ref.extractall('/content')\n",
        "zip_ref.close()"
      ],
      "metadata": {
        "id": "Abt2aqwWmwvv"
      },
      "execution_count": 3,
      "outputs": []
    },
    {
      "cell_type": "code",
      "source": [
        "import tensorflow as tf\n",
        "from tensorflow import keras\n",
        "from keras import Sequential\n",
        "from keras.layers import Dense,Conv2D,MaxPooling2D,Flatten,BatchNormalization,Dropout\n",
        "from tensorflow.keras import layers"
      ],
      "metadata": {
        "id": "BOBsiugDnhv4"
      },
      "execution_count": 4,
      "outputs": []
    },
    {
      "cell_type": "code",
      "source": [
        "# using generators for processing large amount of data\n",
        "train_ds=keras.utils.image_dataset_from_directory(\n",
        "    directory='/content/train',\n",
        "    labels='inferred',\n",
        "    label_mode='int',\n",
        "    batch_size=32,\n",
        "    image_size=(256,256)\n",
        ")\n",
        "\n",
        "\n",
        "validation_ds=keras.utils.image_dataset_from_directory(\n",
        "    directory='/content/test',\n",
        "    labels='inferred',\n",
        "    label_mode='int',\n",
        "    batch_size=32,\n",
        "    image_size=(256,256)\n",
        ")"
      ],
      "metadata": {
        "colab": {
          "base_uri": "https://localhost:8080/"
        },
        "id": "1cprLnWhoqJO",
        "outputId": "2c929b43-2eec-4203-99b3-6d73a60cb4cf"
      },
      "execution_count": 5,
      "outputs": [
        {
          "output_type": "stream",
          "name": "stdout",
          "text": [
            "Found 20000 files belonging to 2 classes.\n",
            "Found 5000 files belonging to 2 classes.\n"
          ]
        }
      ]
    },
    {
      "cell_type": "code",
      "source": [
        "# Normalize\n",
        "def process(image,label):\n",
        "  image=tf.cast(image/255,tf.float32)\n",
        "  return image,label"
      ],
      "metadata": {
        "id": "0y3d_CrWqCV7"
      },
      "execution_count": 6,
      "outputs": []
    },
    {
      "cell_type": "code",
      "source": [
        "train_ds=train_ds.map(process)\n",
        "validation_ds=validation_ds.map(process)"
      ],
      "metadata": {
        "id": "ktNovwF9qK-i"
      },
      "execution_count": 7,
      "outputs": []
    },
    {
      "cell_type": "code",
      "source": [
        "# developing concolutional neural network\n",
        "model=Sequential([\n",
        "    layers.Conv2D(filters=32,kernel_size=(3,3),padding='valid',activation='relu',input_shape=(256,256,3)),\n",
        "    layers.BatchNormalization(),\n",
        "    layers.MaxPooling2D((2,2),strides=2,padding='valid'),\n",
        "\n",
        "    layers.Conv2D(filters=64,kernel_size=(3,3),padding='valid',activation='relu'),\n",
        "    layers.BatchNormalization(),\n",
        "    layers.MaxPooling2D((2,2),strides=2,padding='valid'),\n",
        "\n",
        "    layers.Conv2D(filters=128,kernel_size=(3,3),padding='valid',activation='relu'),\n",
        "    layers.BatchNormalization(),\n",
        "    layers.MaxPooling2D((2,2),strides=2,padding='valid'),\n",
        "\n",
        "    layers.Flatten(),\n",
        "\n",
        "    layers.Dense(128,activation='relu'),\n",
        "    layers.Dropout(0.1),\n",
        "    layers.Dense(64,activation='relu'),\n",
        "    layers.Dropout(0.1),\n",
        "    layers.Dense(1,activation='sigmoid')\n",
        "\n",
        "])"
      ],
      "metadata": {
        "id": "zAlYNgoIqrL6"
      },
      "execution_count": 8,
      "outputs": []
    },
    {
      "cell_type": "code",
      "source": [
        "model.summary(\n",
        "    \n",
        ")"
      ],
      "metadata": {
        "colab": {
          "base_uri": "https://localhost:8080/"
        },
        "id": "5lBPpq0ZrVCy",
        "outputId": "37abaf45-3081-4891-acae-833a3ddca35d"
      },
      "execution_count": 9,
      "outputs": [
        {
          "output_type": "stream",
          "name": "stdout",
          "text": [
            "Model: \"sequential\"\n",
            "_________________________________________________________________\n",
            " Layer (type)                Output Shape              Param #   \n",
            "=================================================================\n",
            " conv2d (Conv2D)             (None, 254, 254, 32)      896       \n",
            "                                                                 \n",
            " batch_normalization (BatchN  (None, 254, 254, 32)     128       \n",
            " ormalization)                                                   \n",
            "                                                                 \n",
            " max_pooling2d (MaxPooling2D  (None, 127, 127, 32)     0         \n",
            " )                                                               \n",
            "                                                                 \n",
            " conv2d_1 (Conv2D)           (None, 125, 125, 64)      18496     \n",
            "                                                                 \n",
            " batch_normalization_1 (Batc  (None, 125, 125, 64)     256       \n",
            " hNormalization)                                                 \n",
            "                                                                 \n",
            " max_pooling2d_1 (MaxPooling  (None, 62, 62, 64)       0         \n",
            " 2D)                                                             \n",
            "                                                                 \n",
            " conv2d_2 (Conv2D)           (None, 60, 60, 128)       73856     \n",
            "                                                                 \n",
            " batch_normalization_2 (Batc  (None, 60, 60, 128)      512       \n",
            " hNormalization)                                                 \n",
            "                                                                 \n",
            " max_pooling2d_2 (MaxPooling  (None, 30, 30, 128)      0         \n",
            " 2D)                                                             \n",
            "                                                                 \n",
            " flatten (Flatten)           (None, 115200)            0         \n",
            "                                                                 \n",
            " dense (Dense)               (None, 128)               14745728  \n",
            "                                                                 \n",
            " dropout (Dropout)           (None, 128)               0         \n",
            "                                                                 \n",
            " dense_1 (Dense)             (None, 64)                8256      \n",
            "                                                                 \n",
            " dropout_1 (Dropout)         (None, 64)                0         \n",
            "                                                                 \n",
            " dense_2 (Dense)             (None, 1)                 65        \n",
            "                                                                 \n",
            "=================================================================\n",
            "Total params: 14,848,193\n",
            "Trainable params: 14,847,745\n",
            "Non-trainable params: 448\n",
            "_________________________________________________________________\n"
          ]
        }
      ]
    },
    {
      "cell_type": "code",
      "source": [
        "model.compile(\n",
        "    optimizer='adam',\n",
        "    loss='binary_crossentropy',\n",
        "    metrics=['accuracy']\n",
        ")"
      ],
      "metadata": {
        "id": "c39NBF0muBMr"
      },
      "execution_count": 10,
      "outputs": []
    },
    {
      "cell_type": "code",
      "source": [
        "history=model.fit(train_ds,epochs=10,validation_data=validation_ds)"
      ],
      "metadata": {
        "colab": {
          "base_uri": "https://localhost:8080/"
        },
        "id": "OGt4iQl6uivH",
        "outputId": "93d5dee4-d2e7-4402-d7b1-9d044d105700"
      },
      "execution_count": 11,
      "outputs": [
        {
          "output_type": "stream",
          "name": "stdout",
          "text": [
            "Epoch 1/10\n",
            "625/625 [==============================] - 82s 115ms/step - loss: 1.6526 - accuracy: 0.5889 - val_loss: 0.5956 - val_accuracy: 0.6754\n",
            "Epoch 2/10\n",
            "625/625 [==============================] - 72s 115ms/step - loss: 0.5887 - accuracy: 0.6944 - val_loss: 0.5800 - val_accuracy: 0.6996\n",
            "Epoch 3/10\n",
            "625/625 [==============================] - 73s 116ms/step - loss: 0.5187 - accuracy: 0.7491 - val_loss: 0.5099 - val_accuracy: 0.7504\n",
            "Epoch 4/10\n",
            "625/625 [==============================] - 72s 115ms/step - loss: 0.4349 - accuracy: 0.8005 - val_loss: 0.4439 - val_accuracy: 0.7962\n",
            "Epoch 5/10\n",
            "625/625 [==============================] - 72s 115ms/step - loss: 0.3837 - accuracy: 0.8290 - val_loss: 0.4321 - val_accuracy: 0.8050\n",
            "Epoch 6/10\n",
            "625/625 [==============================] - 73s 117ms/step - loss: 0.3252 - accuracy: 0.8587 - val_loss: 0.9556 - val_accuracy: 0.6466\n",
            "Epoch 7/10\n",
            "625/625 [==============================] - 72s 115ms/step - loss: 0.2464 - accuracy: 0.8965 - val_loss: 1.2201 - val_accuracy: 0.6982\n",
            "Epoch 8/10\n",
            "625/625 [==============================] - 74s 119ms/step - loss: 0.1862 - accuracy: 0.9254 - val_loss: 0.6062 - val_accuracy: 0.7914\n",
            "Epoch 9/10\n",
            "625/625 [==============================] - 72s 114ms/step - loss: 0.1419 - accuracy: 0.9456 - val_loss: 1.5501 - val_accuracy: 0.7060\n",
            "Epoch 10/10\n",
            "625/625 [==============================] - 72s 115ms/step - loss: 0.1015 - accuracy: 0.9658 - val_loss: 0.6375 - val_accuracy: 0.8172\n"
          ]
        }
      ]
    },
    {
      "cell_type": "code",
      "source": [
        "import matplotlib.pyplot as plt\n",
        "\n",
        "\n",
        "\n",
        "plt.subplot(1,2,1)\n",
        "plt.plot(history.history['accuracy'],color='red',label='train')\n",
        "plt.plot(history.history['val_accuracy'],color='blue',label='test')\n",
        "plt.title(\"Accuracy\")\n",
        "plt.legend()\n",
        "plt.plot()\n",
        "\n",
        "\n",
        "\n",
        "\n",
        "plt.subplot(1,2,2)\n",
        "plt.plot(history.history['loss'],color='red',label='train')\n",
        "plt.plot(history.history['val_loss'],color='blue',label='test')\n",
        "plt.title(\"Loss\")\n",
        "plt.legend()\n",
        "plt.plot()"
      ],
      "metadata": {
        "id": "PeKPuql4uwrd",
        "colab": {
          "base_uri": "https://localhost:8080/",
          "height": 299
        },
        "outputId": "222a336f-60f5-4043-bbd7-20deb4d4bc1c"
      },
      "execution_count": 12,
      "outputs": [
        {
          "output_type": "execute_result",
          "data": {
            "text/plain": [
              "[]"
            ]
          },
          "metadata": {},
          "execution_count": 12
        },
        {
          "output_type": "display_data",
          "data": {
            "text/plain": [
              "<Figure size 432x288 with 2 Axes>"
            ],
            "image/png": "[encoded data removed]"
          },
          "metadata": {
            "needs_background": "light"
          }
        }
      ]
    },
    {
      "cell_type": "code",
      "source": [
        "import cv2"
      ],
      "metadata": {
        "id": "vkcor6MbzARS"
      },
      "execution_count": 13,
      "outputs": []
    },
    {
      "cell_type": "code",
      "source": [
        "def model_prediction(path):\n",
        "  img=cv2.imread(path)\n",
        "  img=cv2.resize(img,(256,256))\n",
        "  img=img.reshape((1,256,256,3))\n",
        "  result=model.predict(img)\n",
        "  return result\n"
      ],
      "metadata": {
        "id": "23jYxRlu7_d1"
      },
      "execution_count": 14,
      "outputs": []
    },
    {
      "cell_type": "code",
      "source": [
        "a=model_prediction(\"/content/download.jpg\")"
      ],
      "metadata": {
        "id": "G0Ihw1s6dOWW",
        "colab": {
          "base_uri": "https://localhost:8080/"
        },
        "outputId": "e3af39d6-fbfb-4405-867c-7a74e88b4312"
      },
      "execution_count": 19,
      "outputs": [
        {
          "output_type": "stream",
          "name": "stdout",
          "text": [
            "1/1 [==============================] - 0s 17ms/step\n"
          ]
        }
      ]
    },
    {
      "cell_type": "code",
      "source": [
        "a"
      ],
      "metadata": {
        "id": "KydY4gA1dhoN",
        "colab": {
          "base_uri": "https://localhost:8080/"
        },
        "outputId": "53145c28-a029-482a-8ce4-47ed66766370"
      },
      "execution_count": 20,
      "outputs": [
        {
          "output_type": "execute_result",
          "data": {
            "text/plain": [
              "array([[0.]], dtype=float32)"
            ]
          },
          "metadata": {},
          "execution_count": 20
        }
      ]
    },
    {
      "cell_type": "code",
      "source": [
        "import pickle"
      ],
      "metadata": {
        "id": "BFjnLEhbdy_8"
      },
      "execution_count": 22,
      "outputs": []
    },
    {
      "cell_type": "code",
      "source": [
        "pickle.dump(model,open(\"cat-vs-dog-model.pkl\",'wb'))"
      ],
      "metadata": {
        "id": "-hTLQ5B22AfK",
        "colab": {
          "base_uri": "https://localhost:8080/"
        },
        "outputId": "58e76647-3357-4e13-b8c4-6e2b27156942"
      },
      "execution_count": 23,
      "outputs": [
        {
          "output_type": "stream",
          "name": "stderr",
          "text": [
            "WARNING:absl:Found untraced functions such as _jit_compiled_convolution_op, _jit_compiled_convolution_op, _jit_compiled_convolution_op while saving (showing 3 of 3). These functions will not be directly callable after loading.\n"
          ]
        }
      ]
    },
    {
      "cell_type": "code",
      "source": [],
      "metadata": {
        "id": "RlbfN596sjda"
      },
      "execution_count": null,
      "outputs": []
    }
  ]
}